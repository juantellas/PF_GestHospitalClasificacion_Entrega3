{
 "cells": [
  {
   "cell_type": "markdown",
   "id": "ef593487",
   "metadata": {},
   "source": [
    "# **5. KNN**"
   ]
  },
  {
   "cell_type": "markdown",
   "id": "d7fa31bf",
   "metadata": {},
   "source": [
    "Se selccionan las variables explicativas y la respuesta."
   ]
  },
  {
   "cell_type": "code",
   "execution_count": 1,
   "id": "5a1623c1",
   "metadata": {},
   "outputs": [
    {
     "name": "stderr",
     "output_type": "stream",
     "text": [
      "Extension for Scikit-learn* enabled (https://github.com/uxlfoundation/scikit-learn-intelex)\n"
     ]
    }
   ],
   "source": [
    "\n",
    "from sklearnex import patch_sklearn\n",
    "patch_sklearn()\n",
    "\n",
    "import pandas as pd\n",
    "import matplotlib.pyplot as plt\n",
    "import seaborn as sns\n",
    "from sklearn.preprocessing import OrdinalEncoder\n",
    "import numpy as np\n",
    "import math\n",
    "import time\n",
    "from sklearn.pipeline import Pipeline\n",
    "from sklearn.model_selection import train_test_split\n",
    "from sklearn.preprocessing import StandardScaler\n",
    "from sklearn.linear_model import LogisticRegression\n",
    "from sklearn.metrics import classification_report, confusion_matrix, accuracy_score\n",
    "from sklearn.model_selection import train_test_split, StratifiedKFold, GridSearchCV\n",
    "from sklearn.neighbors import KNeighborsClassifier\n",
    "from sklearn.preprocessing import OneHotEncoder\n",
    "from sklearn.compose import ColumnTransformer\n",
    "\n",
    "from sklearn.metrics import (\n",
    "    confusion_matrix, accuracy_score, precision_score,\n",
    "    recall_score, f1_score, roc_curve, auc, roc_auc_score, classification_report\n",
    ")"
   ]
  },
  {
   "cell_type": "code",
   "execution_count": 2,
   "id": "9fb60b80",
   "metadata": {},
   "outputs": [],
   "source": [
    "df = pd.read_csv(\"C:\\\\Users\\\\taran\\\\OneDrive\\\\Desktop\\\\ML_PF_entrega3\\\\PF_GestHospitalClasificacion_Entrega3\\\\data\\\\diabetic_data_limpio.csv\")"
   ]
  },
  {
   "cell_type": "code",
   "execution_count": 3,
   "id": "04fa94a9",
   "metadata": {},
   "outputs": [],
   "source": [
    "X = df.drop(\"readmitted\", axis=1)\n",
    "y = df[\"readmitted\"].map({\"No\": 0, \"Yes\": 1}) "
   ]
  },
  {
   "cell_type": "markdown",
   "id": "d007a3a9",
   "metadata": {},
   "source": [
    "Se separan el conjunto de entrenamiento y test."
   ]
  },
  {
   "cell_type": "code",
   "execution_count": 4,
   "id": "a6849ec1",
   "metadata": {},
   "outputs": [],
   "source": [
    "X_train, X_test, y_train, y_test = train_test_split(X, y, test_size=0.2, random_state=42, stratify=y)"
   ]
  },
  {
   "cell_type": "markdown",
   "id": "01463aac",
   "metadata": {},
   "source": [
    "Creamos vectores con cada tipo de variable para hacer el correcto manejo de las variables antes de modelar."
   ]
  },
  {
   "cell_type": "code",
   "execution_count": 5,
   "id": "82f7ea9d",
   "metadata": {},
   "outputs": [],
   "source": [
    "cat_features = X.select_dtypes(include=[\"object\", \"category\"]).columns\n",
    "num_features = X.select_dtypes(include=[\"int64\", \"float64\"]).columns"
   ]
  },
  {
   "cell_type": "markdown",
   "id": "95cbbf23",
   "metadata": {},
   "source": [
    "A continuación, se crean los pipelines de preprocesamiento, modelo logístico con gridsearch y validación ccruzada estratificada, y modelo de knn con gridsearch y vlaidación cruzada estratificada."
   ]
  },
  {
   "cell_type": "code",
   "execution_count": 6,
   "id": "1682283a",
   "metadata": {},
   "outputs": [],
   "source": [
    "preprocessor = ColumnTransformer(\n",
    "    transformers=[\n",
    "        (\"num\", StandardScaler(), num_features),\n",
    "        (\"cat\", OneHotEncoder(handle_unknown=\"ignore\"), cat_features)\n",
    "    ]\n",
    ")"
   ]
  },
  {
   "cell_type": "code",
   "execution_count": 16,
   "id": "4811d59d",
   "metadata": {},
   "outputs": [],
   "source": [
    "def evaluar_modelo(modelo, X_test, y_test, nombre_modelo=\"Modelo\"):\n",
    "    \"\"\"Evalúa un modelo y grafica sus métricas principales\"\"\"\n",
    "    y_pred = modelo.predict(X_test)\n",
    "    y_pred_proba = modelo.predict_proba(X_test)[:, 1] if hasattr(modelo, \"predict_proba\") else None\n",
    "\n",
    "    # Matriz de confusión\n",
    "    cm = confusion_matrix(y_test, y_pred)\n",
    "    plt.figure(figsize=(5, 4))\n",
    "    sns.heatmap(cm, annot=True, fmt='d', cmap=\"Reds\")\n",
    "    plt.xlabel(\"Predicciones\")\n",
    "    plt.ylabel(\"Valores reales\")\n",
    "    plt.title(f\"Matriz de Confusión - {nombre_modelo}\")\n",
    "    plt.show()\n",
    "\n",
    "    # Métricas\n",
    "    accuracy = accuracy_score(y_test, y_pred)\n",
    "    precision = precision_score(y_test, y_pred)\n",
    "    recall = recall_score(y_test, y_pred)\n",
    "    f1 = f1_score(y_test, y_pred)\n",
    "    auc = roc_auc_score(y_test, y_pred_proba) if y_pred_proba is not None else None\n",
    "\n",
    "    print(f\"\\n🔹 {nombre_modelo}\")\n",
    "    print(f\"Accuracy: {accuracy:.3f} | Precision: {precision:.3f} | Recall: {recall:.3f} | F1: {f1:.3f}\")\n",
    "    if auc:\n",
    "        print(f\"AUC: {auc:.3f}\")\n",
    "    print(classification_report(y_test, y_pred))\n",
    "\n",
    "    # Curva ROC\n",
    "    if y_pred_proba is not None:\n",
    "        fpr, tpr, thresholds = roc_curve(y_test, y_pred_proba)\n",
    "        plt.figure(figsize=(6, 5))\n",
    "        plt.plot(fpr, tpr, color='red', lw=2, label=f'ROC (AUC = {auc:.2f})')\n",
    "        plt.plot([0, 1], [0, 1], color='gray', linestyle='--')\n",
    "        plt.xlabel(\"False Positive Rate\")\n",
    "        plt.ylabel(\"True Positive Rate\")\n",
    "        plt.title(f\"Curva ROC - {nombre_modelo}\")\n",
    "        plt.legend()\n",
    "        plt.show()\n",
    "\n",
    "    return {\n",
    "        \"Modelo\": nombre_modelo,\n",
    "        \"Accuracy\": accuracy,\n",
    "        \"Precision\": precision,\n",
    "        \"Recall\": recall,\n",
    "        \"F1\": f1,\n",
    "        \"AUC\": auc\n",
    "    }"
   ]
  },
  {
   "cell_type": "markdown",
   "id": "a4b66845",
   "metadata": {},
   "source": [
    "## 5. KNN sin usar tecnicas de optimizacion"
   ]
  },
  {
   "cell_type": "code",
   "execution_count": 17,
   "id": "73fb6397",
   "metadata": {},
   "outputs": [],
   "source": [
    "resultados_knn = []\n",
    "\n",
    "\n",
    "start = time.time()\n",
    "knn_std = Pipeline(steps=[\n",
    "    (\"preprocessor\", preprocessor),\n",
    "    (\"classifier\", KNeighborsClassifier(n_neighbors=5))\n",
    "])\n",
    "knn_std.fit(X_train, y_train)\n",
    "y_pred_std = knn_std.predict(X_test)\n",
    "end = time.time()\n",
    "metrics_std = {\n",
    "    \"Modelo\": \"KNN - Benchmark\",\n",
    "    \"Accuracy\": accuracy_score(y_test, y_pred_std),\n",
    "    \"Precision\": precision_score(y_test, y_pred_std),\n",
    "    \"Recall\": recall_score(y_test, y_pred_std),\n",
    "    \"F1\": f1_score(y_test, y_pred_std),\n",
    "    \"Tiempo (s)\": round(end - start, 3)\n",
    "}\n",
    "resultados_knn.append(metrics_std)"
   ]
  },
  {
   "cell_type": "markdown",
   "id": "6c3c52e9",
   "metadata": {},
   "source": [
    "## **5.1.1 KNN usando tecnicas de optimizacion**"
   ]
  },
  {
   "cell_type": "code",
   "execution_count": 18,
   "id": "b3ccff1f",
   "metadata": {},
   "outputs": [],
   "source": [
    "start = time.time()\n",
    "knn_kd = Pipeline(steps=[\n",
    "    (\"preprocessor\", preprocessor),\n",
    "    (\"classifier\", KNeighborsClassifier(n_neighbors=5, algorithm=\"kd_tree\", n_jobs=-1))\n",
    "])\n",
    "knn_kd.fit(X_train, y_train)\n",
    "y_pred_kd = knn_kd.predict(X_test)\n",
    "end = time.time()\n",
    "metrics_kd = {\n",
    "    \"Modelo\": \"KNN - KDTree\",\n",
    "    \"Accuracy\": accuracy_score(y_test, y_pred_kd),\n",
    "    \"Precision\": precision_score(y_test, y_pred_kd),\n",
    "    \"Recall\": recall_score(y_test, y_pred_kd),\n",
    "    \"F1\": f1_score(y_test, y_pred_kd),\n",
    "    \"Tiempo (s)\": round(end - start, 3)\n",
    "}\n",
    "resultados_knn.append(metrics_kd)"
   ]
  },
  {
   "cell_type": "markdown",
   "id": "0bd18a1f",
   "metadata": {},
   "source": [
    "## 4"
   ]
  },
  {
   "cell_type": "code",
   "execution_count": 19,
   "id": "7b86268c",
   "metadata": {},
   "outputs": [],
   "source": [
    "start = time.time()\n",
    "knn_ball = Pipeline(steps=[\n",
    "    (\"preprocessor\", preprocessor),\n",
    "    (\"classifier\", KNeighborsClassifier(n_neighbors=5, algorithm=\"ball_tree\", n_jobs=-1))\n",
    "])\n",
    "knn_ball.fit(X_train, y_train)\n",
    "y_pred_ball = knn_ball.predict(X_test)\n",
    "end = time.time()\n",
    "metrics_ball = {\n",
    "    \"Modelo\": \"KNN - BallTree\",\n",
    "    \"Accuracy\": accuracy_score(y_test, y_pred_ball),\n",
    "    \"Precision\": precision_score(y_test, y_pred_ball),\n",
    "    \"Recall\": recall_score(y_test, y_pred_ball),\n",
    "    \"F1\": f1_score(y_test, y_pred_ball),\n",
    "    \"Tiempo (s)\": round(end - start, 3)\n",
    "}\n",
    "resultados_knn.append(metrics_ball)"
   ]
  },
  {
   "cell_type": "code",
   "execution_count": 20,
   "id": "5816718a",
   "metadata": {},
   "outputs": [],
   "source": [
    "try:\n",
    "    import faiss\n",
    "\n",
    "    start = time.time()\n",
    "    X_train_proc = preprocessor.fit_transform(X_train)\n",
    "    X_test_proc = preprocessor.transform(X_test)\n",
    "\n",
    "    d = X_train_proc.shape[1]\n",
    "    index = faiss.IndexFlatL2(d)\n",
    "    index.add(np.array(X_train_proc, dtype=np.float32))\n",
    "\n",
    "    k = 5\n",
    "    distances, indices = index.search(np.array(X_test_proc, dtype=np.float32), k)\n",
    "\n",
    "    y_pred_faiss = []\n",
    "    for idxs in indices:\n",
    "        vecinos = y_train.iloc[idxs]\n",
    "        voto = int(vecinos.mean() >= 0.5)\n",
    "        y_pred_faiss.append(voto)\n",
    "\n",
    "    end = time.time()\n",
    "    metrics_faiss = {\n",
    "        \"Modelo\": \"KNN - FAISS\",\n",
    "        \"Accuracy\": accuracy_score(y_test, y_pred_faiss),\n",
    "        \"Precision\": precision_score(y_test, y_pred_faiss),\n",
    "        \"Recall\": recall_score(y_test, y_pred_faiss),\n",
    "        \"F1\": f1_score(y_test, y_pred_faiss),\n",
    "        \"Tiempo (s)\": round(end - start, 3)\n",
    "    }\n",
    "    resultados_knn.append(metrics_faiss)\n",
    "\n",
    "except ImportError:\n",
    "    print(\"⚠️ FAISS no está instalado. Ejecuta: pip install faiss-cpu o faiss-gpu\")"
   ]
  },
  {
   "cell_type": "code",
   "execution_count": 22,
   "id": "a07fecbf",
   "metadata": {},
   "outputs": [
    {
     "name": "stdout",
     "output_type": "stream",
     "text": [
      "            Modelo  Accuracy  Precision    Recall        F1  Tiempo (s)\n",
      "0     KNN - KDTree  0.582686   0.551938  0.502398  0.526004      76.405\n",
      "1  KNN - Benchmark  0.582244   0.551309  0.502825  0.525952       2.240\n",
      "2   KNN - BallTree  0.582244   0.551309  0.502825  0.525952       2.360\n",
      "3      KNN - FAISS  0.582244   0.551321  0.502718  0.525899       6.327\n"
     ]
    },
    {
     "name": "stderr",
     "output_type": "stream",
     "text": [
      "C:\\Users\\taran\\AppData\\Local\\Temp\\ipykernel_1372\\3111315499.py:6: FutureWarning: \n",
      "\n",
      "Passing `palette` without assigning `hue` is deprecated and will be removed in v0.14.0. Assign the `x` variable to `hue` and set `legend=False` for the same effect.\n",
      "\n",
      "  sns.barplot(x=\"Modelo\", y=\"F1\", data=tabla_resultados, palette=\"Reds\")\n"
     ]
    },
    {
     "data": {
      "image/png": "[encoded data removed]",
      "text/plain": [
       "<Figure size 1000x500 with 1 Axes>"
      ]
     },
     "metadata": {},
     "output_type": "display_data"
    },
    {
     "name": "stderr",
     "output_type": "stream",
     "text": [
      "C:\\Users\\taran\\AppData\\Local\\Temp\\ipykernel_1372\\3111315499.py:13: FutureWarning: \n",
      "\n",
      "Passing `palette` without assigning `hue` is deprecated and will be removed in v0.14.0. Assign the `x` variable to `hue` and set `legend=False` for the same effect.\n",
      "\n",
      "  sns.barplot(x=\"Modelo\", y=\"Tiempo (s)\", data=tabla_resultados, palette=\"Reds\")\n"
     ]
    },
    {
     "data": {
      "image/png": "[encoded data removed]",
      "text/plain": [
       "<Figure size 1000x500 with 1 Axes>"
      ]
     },
     "metadata": {},
     "output_type": "display_data"
    }
   ],
   "source": [
    "tabla_resultados = pd.DataFrame(resultados_knn).sort_values(\"F1\", ascending=False).reset_index(drop=True)\n",
    "print(tabla_resultados)\n",
    "\n",
    "#  Visualización comparativa\n",
    "plt.figure(figsize=(10, 5))\n",
    "sns.barplot(x=\"Modelo\", y=\"F1\", data=tabla_resultados, palette=\"Reds\")\n",
    "plt.title(\"Comparación de F1-score entre métodos de KNN\")\n",
    "plt.xticks(rotation=45)\n",
    "plt.tight_layout()\n",
    "plt.show()\n",
    "\n",
    "plt.figure(figsize=(10, 5))\n",
    "sns.barplot(x=\"Modelo\", y=\"Tiempo (s)\", data=tabla_resultados, palette=\"Reds\")\n",
    "plt.title(\"Tiempo de entrenamiento por método\")\n",
    "plt.xticks(rotation=45)\n",
    "plt.tight_layout()\n",
    "plt.show()"
   ]
  }
 ],
 "metadata": {
  "kernelspec": {
   "display_name": "Python 3",
   "language": "python",
   "name": "python3"
  },
  "language_info": {
   "codemirror_mode": {
    "name": "ipython",
    "version": 3
   },
   "file_extension": ".py",
   "mimetype": "text/x-python",
   "name": "python",
   "nbconvert_exporter": "python",
   "pygments_lexer": "ipython3",
   "version": "3.9.23"
  }
 },
 "nbformat": 4,
 "nbformat_minor": 5
}
