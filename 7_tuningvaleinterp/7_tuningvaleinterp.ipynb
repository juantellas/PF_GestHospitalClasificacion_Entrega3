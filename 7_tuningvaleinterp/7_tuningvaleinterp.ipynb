{
 "cells": [
  {
   "cell_type": "markdown",
   "id": "0b2d24c1",
   "metadata": {},
   "source": [
    "# **7. Validacion Avanzada, Tuning e Interpretabilidad a los modelos estudiados**"
   ]
  },
  {
   "cell_type": "code",
   "execution_count": null,
   "id": "36306119",
   "metadata": {},
   "outputs": [],
   "source": [
    "import numpy as np\n",
    "import pandas as pd\n",
    "from sklearn.pipeline import Pipeline\n",
    "from sklearn.model_selection import GridSearchCV, StratifiedKFold\n",
    "from sklearn.preprocessing import StandardScaler\n",
    "from sklearn.neighbors import KNeighborsClassifier\n",
    "from imblearn.pipeline import Pipeline as ImbPipeline\n",
    "from imblearn.over_sampling import SMOTE\n",
    "from sklearn.metrics import make_scorer, f1_score, roc_auc_score\n",
    "\n",
    "from sklearnex import patch_sklearn\n",
    "patch_sklearn()\n",
    "\n",
    "import numpy as np\n",
    "import math\n",
    "import pandas as pd\n",
    "import matplotlib.pyplot as plt\n",
    "import seaborn as sns\n",
    "\n",
    "from sklearn.preprocessing import OrdinalEncoder\n",
    "from sklearn.pipeline import Pipeline\n",
    "from sklearn.preprocessing import StandardScaler\n",
    "from sklearn.linear_model import LogisticRegression\n",
    "from sklearn.model_selection import train_test_split, StratifiedKFold, GridSearchCV\n",
    "from sklearn.neighbors import KNeighborsClassifier\n",
    "from sklearn.preprocessing import OneHotEncoder\n",
    "from sklearn.compose import ColumnTransformer\n",
    "from sklearn.tree import DecisionTreeClassifier\n",
    "from sklearn.naive_bayes import GaussianNB\n",
    "from sklearn.ensemble import RandomForestClassifier\n",
    "from xgboost import XGBClassifier\n",
    "from sklearn.svm import SVC\n",
    "\n",
    "\n",
    "\n",
    "from sklearn.metrics import (\n",
    "    confusion_matrix, accuracy_score, precision_score,\n",
    "    recall_score, f1_score, roc_curve, auc, classification_report, roc_auc_score\n",
    ")\n",
    "from imblearn.over_sampling import SMOTE\n",
    "from imblearn.pipeline import Pipeline as ImbPipeline\n",
    "from imblearn.over_sampling import ADASYN\n",
    "\n",
    "\n"
   ]
  },
  {
   "cell_type": "code",
   "execution_count": null,
   "id": "983bc661",
   "metadata": {},
   "outputs": [],
   "source": [
    "df = pd.read_csv(\"C:\\\\Users\\\\taran\\\\OneDrive\\\\Desktop\\\\ML_PF_entrega3\\\\PF_GestHospitalClasificacion_Entrega3\\\\data\\\\diabetic_data_limpio.csv\")"
   ]
  },
  {
   "cell_type": "code",
   "execution_count": null,
   "id": "20813352",
   "metadata": {},
   "outputs": [],
   "source": [
    "X = df.drop(\"readmitted\", axis=1)\n",
    "y = df[\"readmitted\"].map({\"No\": 0, \"Yes\": 1}) "
   ]
  },
  {
   "cell_type": "code",
   "execution_count": null,
   "id": "539b4f9d",
   "metadata": {},
   "outputs": [],
   "source": [
    "X_train, X_test, y_train, y_test = train_test_split(X, y, test_size=0.2, random_state=42, stratify=y)"
   ]
  },
  {
   "cell_type": "code",
   "execution_count": null,
   "id": "a05041bd",
   "metadata": {},
   "outputs": [],
   "source": [
    "cat_features = X.select_dtypes(include=[\"object\", \"category\"]).columns\n",
    "num_features = X.select_dtypes(include=[\"int64\", \"float64\"]).columns"
   ]
  },
  {
   "cell_type": "code",
   "execution_count": null,
   "id": "fc1ccb4c",
   "metadata": {},
   "outputs": [],
   "source": [
    "preprocessor = ColumnTransformer(\n",
    "    transformers=[\n",
    "        (\"num\", StandardScaler(), num_features),\n",
    "        (\"cat\", OneHotEncoder(handle_unknown=\"ignore\"), cat_features)\n",
    "    ]\n",
    ")"
   ]
  },
  {
   "cell_type": "code",
   "execution_count": null,
   "id": "d5a845d6",
   "metadata": {},
   "outputs": [],
   "source": [
    "# Suponiendo que 'preprocessor' ya está definido (ej: ColumnTransformer)\n",
    "knn_pipeline = ImbPipeline(steps=[\n",
    "    (\"preprocessor\", preprocessor),  # tu preprocesamiento\n",
    "    (\"smote\", SMOTE(random_state=42)),\n",
    "    (\"classifier\", KNeighborsClassifier(algorithm=\"kd_tree\"))\n",
    "])\n"
   ]
  },
  {
   "cell_type": "code",
   "execution_count": null,
   "id": "803a8add",
   "metadata": {},
   "outputs": [],
   "source": [
    "def evaluar_modelo(modelo, X_test, y_test, nombre_modelo=\"Modelo\"):\n",
    "    # Predicciones\n",
    "    y_pred = modelo.predict(X_test)\n",
    "    y_pred_proba = modelo.predict_proba(X_test)[:, 1] if hasattr(modelo, \"predict_proba\") else None\n",
    "\n",
    "    # Matriz de confusión\n",
    "    cm = confusion_matrix(y_test, y_pred)\n",
    "    plt.figure(figsize=(5, 4))\n",
    "    sns.heatmap(cm, annot=True, fmt='d', cmap=\"Reds\")\n",
    "    plt.xlabel(\"Predicciones\")\n",
    "    plt.ylabel(\"Valores reales\")\n",
    "    plt.title(f\"Matriz de Confusión - {nombre_modelo}\")\n",
    "    plt.show()\n",
    "\n",
    "    # Métricas básicas\n",
    "    accuracy = accuracy_score(y_test, y_pred)\n",
    "    precision = precision_score(y_test, y_pred)\n",
    "    recall = recall_score(y_test, y_pred)\n",
    "    f1 = f1_score(y_test, y_pred)\n",
    "\n",
    "    # Calcular AUC si hay probabilidades\n",
    "    auc = roc_auc_score(y_test, y_pred_proba) if y_pred_proba is not None else None\n",
    "\n",
    "    # Mostrar métricas\n",
    "    print(f\"Modelo: {nombre_modelo}\")\n",
    "    print(\"Accuracy:\", round(accuracy, 3))\n",
    "    print(\"Precision:\", round(precision, 3))\n",
    "    print(\"Recall:\", round(recall, 3))\n",
    "    print(\"F1-score:\", round(f1, 3))\n",
    "    if auc is not None:\n",
    "        print(\"AUC:\", round(auc, 3))\n",
    "    print(\"\\nReporte de clasificación:\\n\", classification_report(y_test, y_pred))\n",
    "\n",
    "    # Curva ROC\n",
    "    if y_pred_proba is not None:\n",
    "        fpr, tpr, thresholds = roc_curve(y_test, y_pred_proba)\n",
    "        plt.figure(figsize=(6, 5))\n",
    "        plt.plot(fpr, tpr, color='red', lw=2, label=f'ROC curve (AUC = {auc:.2f})')\n",
    "        plt.plot([0, 1], [0, 1], color='gray', linestyle='--')\n",
    "        plt.xlabel(\"False Positive Rate\")\n",
    "        plt.ylabel(\"True Positive Rate\")\n",
    "        plt.title(f\"Curva ROC - {nombre_modelo}\")\n",
    "        plt.legend(loc=\"lower right\")\n",
    "        plt.show()\n",
    "\n",
    "    # Retornar resultados en formato de diccionario\n",
    "    return {\n",
    "        \"Modelo\": nombre_modelo,\n",
    "        \"Accuracy\": accuracy,\n",
    "        \"Precision\": precision,\n",
    "        \"Recall\": recall,\n",
    "        \"F1\": f1,\n",
    "        \"AUC\": auc\n",
    "    }\n"
   ]
  },
  {
   "cell_type": "code",
   "execution_count": null,
   "id": "23dfe046",
   "metadata": {},
   "outputs": [],
   "source": []
  }
 ],
 "metadata": {
  "kernelspec": {
   "display_name": "base_finalML_venv",
   "language": "python",
   "name": "python3"
  },
  "language_info": {
   "name": "python",
   "version": "3.9.23"
  }
 },
 "nbformat": 4,
 "nbformat_minor": 5
}
